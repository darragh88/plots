{
 "cells": [
  {
   "cell_type": "code",
   "execution_count": 2,
   "metadata": {},
   "outputs": [],
   "source": [
    "import pandas as pd\n",
    "import numpy as np\n",
    "import matplotlib.pyplot as plt\n",
    "import seaborn as sns\n",
    "\n",
    "from scipy.optimize import minimize\n"
   ]
  },
  {
   "cell_type": "code",
   "execution_count": 8,
   "metadata": {},
   "outputs": [
    {
     "data": {
      "text/plain": [
       "array([ 0.73591131,  0.88466182,  1.18049127,  1.0664644 ,  0.73775562,\n",
       "        0.84546585,  0.45763088, -0.01749775,  0.04705773,  0.328992  ])"
      ]
     },
     "execution_count": 8,
     "metadata": {},
     "output_type": "execute_result"
    }
   ],
   "source": [
    "np.random.seed(0)\n",
    "X = np.random.normal(0, 1, size=(100, 10))\n",
    "betas = np.random.uniform(size=10)\n",
    "Y = np.dot(X, betas) + np.random.normal(size=100)\n",
    "\n",
    "def subset_shrinkage(beta, X, Y, lambda_ridge=0.1, idx_to_shrink=[]):\n",
    "    mse = np.mean((Y - np.dot(X, beta))**2)\n",
    "\n",
    "    ridge_penalty = lambda_ridge * np.sum(beta[idx_to_shrink]**2)\n",
    "    \n",
    "    return mse + ridge_penalty\n",
    "\n",
    "initial_betas = np.zeros(X.shape[1])\n",
    "\n",
    "# Minimize the objective function\n",
    "subset_coef = minimize(subset_shrinkage, initial_betas, args=(X, Y, 0.1, [0])) #Penalise the first feature only\n",
    "\n",
    "subset_coef.x "
   ]
  },
  {
   "cell_type": "code",
   "execution_count": 24,
   "metadata": {},
   "outputs": [
    {
     "data": {
      "text/plain": [
       "array([0.72151918, 0.7146317 , 0.89864458, 0.88874064, 0.72399857,\n",
       "       0.76522069, 0.56631377, 0.29299189, 0.34438384, 0.4965699 ])"
      ]
     },
     "execution_count": 24,
     "metadata": {},
     "output_type": "execute_result"
    }
   ],
   "source": [
    "def cluster_shrinkage(beta, X, Y, lambda_ridge=0.1):\n",
    "    mse = np.mean((Y - np.dot(X, beta))**2)\n",
    "\n",
    "    ridge_penalty = lambda_ridge * np.sum((beta - np.mean(beta))**2)\n",
    "    \n",
    "    return mse + ridge_penalty\n",
    "\n",
    "cluster_coef = minimize(cluster_shrinkage, initial_betas, args=(X, Y, 1.0)) #Pulls them to the mean\n",
    "\n",
    "cluster_coef.x "
   ]
  },
  {
   "cell_type": "code",
   "execution_count": 27,
   "metadata": {},
   "outputs": [
    {
     "data": {
      "text/plain": [
       "array([1.12126818, 1.05547165, 1.54467606, 1.34636484, 1.13140441,\n",
       "       1.19648692, 0.84105352, 0.35565933, 0.3298477 , 0.74072983])"
      ]
     },
     "execution_count": 27,
     "metadata": {},
     "output_type": "execute_result"
    }
   ],
   "source": [
    "def non_zero_priors(beta, X, Y, beta_priors, lambda_ridge=0.1):\n",
    "    mse = np.mean((Y - np.dot(X, beta))**2)\n",
    "\n",
    "    ridge_penalty = lambda_ridge * np.sum((beta - beta_priors))**2\n",
    "    \n",
    "    return mse + ridge_penalty\n",
    "\n",
    "non_zero_coef = minimize(non_zero_priors, initial_betas, args=(X, Y, np.ones(10), 1.0))  ## Priors of the betas are 1\n",
    "\n",
    "non_zero_coef.x "
   ]
  }
 ],
 "metadata": {
  "kernelspec": {
   "display_name": "canonicalportfolio",
   "language": "python",
   "name": "python3"
  },
  "language_info": {
   "codemirror_mode": {
    "name": "ipython",
    "version": 3
   },
   "file_extension": ".py",
   "mimetype": "text/x-python",
   "name": "python",
   "nbconvert_exporter": "python",
   "pygments_lexer": "ipython3",
   "version": "3.10.13"
  }
 },
 "nbformat": 4,
 "nbformat_minor": 2
}
