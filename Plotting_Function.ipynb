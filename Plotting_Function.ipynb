{
 "cells": [
  {
   "cell_type": "code",
   "execution_count": 1,
   "id": "4c27e8e8",
   "metadata": {},
   "outputs": [],
   "source": [
    "import pandas as pd\n",
    "import plotly.graph_objects as go\n",
    "\n",
    "def plot_interactive_dropdown(df):\n",
    "    columns = df.columns\n",
    "    fig = go.Figure()\n",
    "\n",
    "    # Add a line plot for each column; show only the first one initially\n",
    "    for i, col in enumerate(columns):\n",
    "        fig.add_trace(go.Scatter(\n",
    "            x=df.index, y=df[col], mode='lines', name=col,\n",
    "            visible=(i == 0)\n",
    "        ))\n",
    "\n",
    "    # Create dropdown buttons to toggle visibility of each column\n",
    "    buttons = []\n",
    "    for i, col in enumerate(columns):\n",
    "        visible = [j == i for j in range(len(columns))]  # Only show one at a time\n",
    "        buttons.append(dict(label=col,\n",
    "                            method='update',\n",
    "                            args=[{'visible': visible},  # Update which trace is visible\n",
    "                                  {'title': col}]))\n",
    "\n",
    "    # Add dropdown and time range controls to the layout\n",
    "    fig.update_layout(\n",
    "        updatemenus=[dict(\n",
    "            active=0,\n",
    "            buttons=buttons,\n",
    "            x=1.15,\n",
    "            xanchor='left',\n",
    "            y=1,\n",
    "            yanchor='top'\n",
    "        )],\n",
    "        title=columns[0],\n",
    "        hovermode='x unified',\n",
    "        xaxis=dict(\n",
    "            rangeselector=dict(\n",
    "                buttons=[\n",
    "                    dict(count=1, label=\"1d\", step=\"day\", stepmode=\"backward\"),\n",
    "                    dict(count=7, label=\"1w\", step=\"day\", stepmode=\"backward\"),\n",
    "                    dict(count=1, label=\"1m\", step=\"month\", stepmode=\"backward\"),\n",
    "                    dict(step=\"all\")\n",
    "                ]\n",
    "            ),\n",
    "            rangeslider=dict(visible=True),\n",
    "            type=\"date\"\n",
    "        )\n",
    "    )\n",
    "\n",
    "    fig.show()"
   ]
  },
  {
   "cell_type": "code",
   "execution_count": 4,
   "id": "a42d44d3",
   "metadata": {},
   "outputs": [
    {
     "data": {
      "text/plain": [
       "pandas.core.indexes.datetimes.DatetimeIndex"
      ]
     },
     "execution_count": 4,
     "metadata": {},
     "output_type": "execute_result"
    }
   ],
   "source": [
    "import numpy as np\n",
    "\n",
    "# Create hourly datetime index for 10 days\n",
    "date_rng = pd.date_range(start='2024-01-01', periods=240, freq='H')\n",
    "\n",
    "# Create DataFrame with 3 columns\n",
    "df = pd.DataFrame(index=date_rng)\n",
    "df['demand'] = np.random.normal(100, 10, size=len(df))\n",
    "df['temperature'] = np.random.normal(20, 5, size=len(df))\n",
    "df['price'] = np.random.normal(50, 8, size=len(df))\n",
    "\n",
    "type(df.index)\n",
    "# Run interactive plot\n",
    "# plot_interactive_dropdown(df)"
   ]
  }
 ],
 "metadata": {
  "kernelspec": {
   "display_name": "Python 3 (ipykernel)",
   "language": "python",
   "name": "python3"
  },
  "language_info": {
   "codemirror_mode": {
    "name": "ipython",
    "version": 3
   },
   "file_extension": ".py",
   "mimetype": "text/x-python",
   "name": "python",
   "nbconvert_exporter": "python",
   "pygments_lexer": "ipython3",
   "version": "3.11.5"
  }
 },
 "nbformat": 4,
 "nbformat_minor": 5
}
