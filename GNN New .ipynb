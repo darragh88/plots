{
 "cells": [
  {
   "cell_type": "markdown",
   "id": "07705542",
   "metadata": {},
   "source": [
    "Benchmarks QM9, Mutag, Zinc "
   ]
  },
  {
   "cell_type": "markdown",
   "id": "6acceed8",
   "metadata": {},
   "source": [
    "Mutag \n",
    "- Classification: The best model currently is catboost (primes to paths) "
   ]
  },
  {
   "cell_type": "code",
   "execution_count": null,
   "id": "ef33ed22",
   "metadata": {},
   "outputs": [],
   "source": [
    "import numpy as np\n",
    "import pandas as pd\n",
    "from scipy import sparse\n",
    "\n",
    "import torch\n",
    "import torch.nn.functional as F\n",
    "from torch.nn import Linear\n",
    "from torch_geometric.utils import from_scipy_sparse_matrix\n",
    "from torch_geometric.data import Data\n",
    "from torch_geometric.transforms import RandomNodeSplit\n",
    "from torch_geometric.nn import GATConv"
   ]
  },
  {
   "cell_type": "code",
   "execution_count": null,
   "id": "667580ff",
   "metadata": {},
   "outputs": [],
   "source": [
    "# 🟦 YOUR DATA -----------------------------------------------------------------\n",
    "node_dict       = ...  # {node_id: DataFrame with feature columns + 'y' column}\n",
    "adjacency       = ...  # 2-D numpy array or DataFrame with 0/1 values\n",
    "# -----------------------------------------------------------------------------\n",
    "\n",
    "\n",
    "# 1 a)  Gather features and labels in a reproducible node order\n",
    "node_ids   = np.array(sorted(node_dict.keys()))          # [N]\n",
    "features   = np.vstack([node_dict[n].drop('y', axis=1).values[0]\n",
    "                        for n in node_ids])              # [N, F]\n",
    "labels     = np.array([node_dict[n]['y'].iloc[0] for n in node_ids])  # [N]\n",
    "\n",
    "num_nodes, num_features = features.shape\n",
    "num_classes  = len(np.unique(labels))\n",
    "\n",
    "# 1 b)  Build the edge list  (PyG wants COO format)\n",
    "adj = np.asarray(adjacency)                              # in case it’s a DF\n",
    "edge_index, _ = from_scipy_sparse_matrix(\n",
    "    sparse.csr_matrix(adj))                              # shape [2, E]\n",
    "\n",
    "# 1 c)  Create the PyG Data object\n",
    "data = Data(\n",
    "    x=torch.tensor(features, dtype=torch.float),\n",
    "    y=torch.tensor(labels,    dtype=torch.long),\n",
    "    edge_index=edge_index\n",
    ")\n",
    "\n",
    "# 1 d)  Add train/val/test masks  (80 / 10 / 10 split here)\n",
    "# data = RandomNodeSplit(num_val=0.1, num_test=0.1)(data)\n",
    "# print(data)"
   ]
  },
  {
   "cell_type": "code",
   "execution_count": null,
   "id": "285d0cea",
   "metadata": {},
   "outputs": [],
   "source": [
    "def sequential_split(data, test_ratio: float = 0.10):\n",
    "    \"\"\"\n",
    "    Puts the *last* `test_ratio` fraction of nodes into `data.test_mask`\n",
    "    and the rest into `data.train_mask`.  (No validation set created.)\n",
    "    \"\"\"\n",
    "    N = data.num_nodes\n",
    "    num_test = int(round(N * test_ratio))\n",
    "\n",
    "    data.train_mask = torch.zeros(N, dtype=torch.bool)\n",
    "    data.test_mask  = torch.zeros(N, dtype=torch.bool)\n",
    "\n",
    "    data.test_mask[-num_test:] = True       # last 10 %\n",
    "    data.train_mask[:-num_test] = True      # everything before that\n",
    "    return data\n",
    "\n",
    "\n",
    "# --- usage --------------------------------------------------------------\n",
    "data = sequential_split(data, test_ratio=0.10)\n",
    "print(data.train_mask.sum(), data.test_mask.sum())"
   ]
  },
  {
   "cell_type": "code",
   "execution_count": null,
   "id": "1a24ff1e",
   "metadata": {},
   "outputs": [],
   "source": [
    "class GAT(torch.nn.Module):\n",
    "    def __init__(self,\n",
    "                 in_channels:  int,\n",
    "                 hidden_channels: int,\n",
    "                 out_channels: int,\n",
    "                 heads: int = 8):\n",
    "        super().__init__()\n",
    "        self.conv1 = GATConv(in_channels, hidden_channels, heads)\n",
    "        self.conv2 = GATConv(hidden_channels * heads,\n",
    "                             out_channels,\n",
    "                             heads=1)\n",
    "\n",
    "    def forward(self, x, edge_index):\n",
    "        x = F.elu(self.conv1(x, edge_index))\n",
    "        x = F.dropout(x, p=0.5, training=self.training)\n",
    "        x = self.conv2(x, edge_index)\n",
    "        return x\n",
    "\n",
    "model = GAT(in_channels=num_features,\n",
    "            hidden_channels=16,\n",
    "            out_channels=num_classes,\n",
    "            heads=8)\n",
    "\n",
    "optimizer = torch.optim.Adam(model.parameters(), lr=0.01, weight_decay=5e-4)\n",
    "criterion = torch.nn.CrossEntropyLoss()"
   ]
  },
  {
   "cell_type": "code",
   "execution_count": null,
   "id": "b330cd2e",
   "metadata": {},
   "outputs": [],
   "source": [
    "@torch.no_grad()\n",
    "def accuracy(data, mask):\n",
    "    model.eval()\n",
    "    out  = model(data.x, data.edge_index)\n",
    "    pred = out.argmax(dim=1)\n",
    "    return (pred[mask] == data.y[mask]).float().mean().item()\n",
    "\n",
    "def train(data):\n",
    "    model.train()\n",
    "    optimizer.zero_grad()\n",
    "    out  = model(data.x, data.edge_index)\n",
    "    loss = criterion(out[data.train_mask], data.y[data.train_mask])\n",
    "    loss.backward()\n",
    "    optimizer.step()\n",
    "    return loss.item()\n",
    "\n",
    "# ---- main loop ----\n",
    "for epoch in range(1, 201):\n",
    "    loss = train(data)\n",
    "    val_acc  = accuracy(data, data.val_mask)\n",
    "    test_acc = accuracy(data, data.test_mask)\n",
    "    if epoch % 10 == 0 or epoch == 1:\n",
    "        print(f'Epoch {epoch:03d} | loss {loss:.4f} | '\n",
    "              f'val {val_acc:.3f} | test {test_acc:.3f}')"
   ]
  }
 ],
 "metadata": {
  "kernelspec": {
   "display_name": "Python 3 (ipykernel)",
   "language": "python",
   "name": "python3"
  },
  "language_info": {
   "codemirror_mode": {
    "name": "ipython",
    "version": 3
   },
   "file_extension": ".py",
   "mimetype": "text/x-python",
   "name": "python",
   "nbconvert_exporter": "python",
   "pygments_lexer": "ipython3",
   "version": "3.11.5"
  }
 },
 "nbformat": 4,
 "nbformat_minor": 5
}
